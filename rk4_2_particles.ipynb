{
 "cells": [
  {
   "cell_type": "code",
   "execution_count": 2,
   "id": "18ccc432-67b9-4650-8144-3791cb0385f4",
   "metadata": {},
   "outputs": [],
   "source": [
    "import numpy as np\n",
    "import numba\n",
    "import matplotlib.pyplot as plt\n",
    "from numpy.linalg import inv"
   ]
  },
  {
   "cell_type": "code",
   "execution_count": 60,
   "id": "0d758ff7-67a3-4b09-9cd5-900e817099cb",
   "metadata": {},
   "outputs": [
    {
     "data": {
      "image/png": "[encoded data removed]",
      "text/plain": [
       "<Figure size 432x288 with 2 Axes>"
      ]
     },
     "metadata": {
      "needs_background": "light"
     },
     "output_type": "display_data"
    }
   ],
   "source": [
    "#column length\n",
    "H = 25\n",
    "\n",
    "#particle radii:\n",
    "ap_i = 3 #microns\n",
    "ap_j = 3 #microns\n",
    "\n",
    "#densities (keep density in kg/m^3)\n",
    "rho_m = 1000\n",
    "rho_i = 965\n",
    "rho_j = 965\n",
    "\n",
    "#gravity (um/s^2)\n",
    "grav = 9.81e6\n",
    "\n",
    "#viscosity of medium (Pa s)\n",
    "eta = 1e-3\n",
    "\n",
    "#stokes drag\n",
    "gamma0_i = 6*np.pi*eta* (ap_i*1e-6) #1/mu_0\n",
    "gamma0_j = 6*np.pi*eta* (ap_j*1e-6)\n",
    "\n",
    "\n",
    "#initial condition\n",
    "Xi = np.array([20, 20])\n",
    "Xj = np.array([20+6*ap_i, 20])\n",
    "z0 = 0.\n",
    "\n",
    "@numba.jit()\n",
    "\n",
    "def r(Xi, Xj): #calculate 2d distance between particles\n",
    "    return np.sqrt((Xi[1]-Xj[1])**2 + (Xi[0]-Xj[0])**2)\n",
    "    \n",
    "def theta(Xi, Xj): #calculate angle between particles\n",
    "    if Xi[0]-Xj[0] == 0:\n",
    "        return np.pi/2\n",
    "    else:\n",
    "        return np.arctan([(Xi[1]-Xj[1]), Xi[0]-Xj[0]])[1]\n",
    "    \n",
    "def gamma1_i(Xi): #drag due to wall\n",
    "    return (1 - 9/8*ap_i/(Xi[1]-z0) - 9/8*ap_i/(H-Xi[1]+z0))**-1\n",
    "\n",
    "def gamma1_j(Xj):\n",
    "    return (1 - 9/8*ap_j/(Xj[1]-z0) - 9/8*ap_j/(H-Xj[1]+z0))**-1\n",
    "\n",
    "wall_mobility = []\n",
    "def f(Xi, Xj):\n",
    "    m = (rho_i - rho_m)*4/3*np.pi*(ap_i*1e-6)**3\n",
    "    wall_mobility.append(gamma1_i(Xi)**-1)\n",
    "    gamma_tot = (gamma1_i(Xi)) * np.array([[1, 0],[0,1]])  #gamma/gamma0\n",
    "    A_inv = (np.linalg.inv(gamma_tot))\n",
    "    r_ij = r(Xi, Xj)\n",
    "    theta_ij = theta(Xi, Xj)\n",
    "    H_inv = np.array([[np.sin(theta_ij)**2+1, \\\n",
    "                       -np.sin(theta_ij)*np.cos(theta_ij)],\\\n",
    "                      [-np.sin(theta_ij)*np.cos(theta_ij), \\\n",
    "                       1/2*(np.cos(2*theta_ij)+3)]])#inverse mobility matrix\n",
    "    return np.matmul(-A_inv, \\\n",
    "                     (m*grav/gamma0_i*np.array([0, 1]) + 2*r_ij/(3*ap_i) * np.matmul(H_inv, Xj)))\n",
    "\n",
    "\n",
    "def g(Xi, Xj):\n",
    "    m = (rho_j - rho_m)*4/3*np.pi*(ap_j*1e-6)**3\n",
    "    gamma_tot = gamma1_j(Xj) * np.array([[1, 0],[0,1]])  \n",
    "    A_inv = (np.linalg.inv(gamma_tot))\n",
    "    r_ij = r(Xi, Xj)\n",
    "    theta_ij = theta(Xi, Xj)\n",
    "    H_inv = np.array([[np.sin(theta_ij)**2+1, \\\n",
    "                       -np.sin(theta_ij)*np.cos(theta_ij)],\\\n",
    "                     [-np.sin(theta_ij)*np.cos(theta_ij), \\\n",
    "                      1/2*(np.cos(2*theta_ij)+3)]])#inverse mobility matrix\n",
    "    return np.matmul(-A_inv, \\\n",
    "                    (m*grav/gamma0_j*np.array([0, 1]) + 2*r_ij/(3*ap_j) * np.matmul(H_inv, Xi)))\n",
    "\n",
    "\n",
    "fig, axs = plt.subplots(2, sharex = True)\n",
    "ax0 = axs[0]\n",
    "ax1 = axs[1]\n",
    "ax0.set_ylabel(r'x ($\\mu m$)')\n",
    "ax1.set_xlabel(r't (s)')\n",
    "ax1.set_ylabel(r'z ($\\mu m$)')\n",
    "\n",
    "def iterate(Xi, Xj, t0, tf, n):\n",
    "    t = np.linspace(t0, tf, n)\n",
    "    h = t[1] - t[0]\n",
    "    \n",
    "    count = 0\n",
    "    \n",
    "    for i in range(n):\n",
    "                \n",
    "        #rk4\n",
    "        k1 = h * f(Xi, Xj)\n",
    "        l1 = h * g(Xi, Xj)\n",
    "\n",
    "        k2 = h * f(Xi+k1/2, Xj+l1/2)\n",
    "        l2 = h * g(Xi+k1/2, Xj+l1/2)\n",
    "        \n",
    "        k3 = h * f(Xi+k2/2, Xj+l2/2)\n",
    "        l3 = h * g(Xi+k2/2, Xj+l2/2)\n",
    "        \n",
    "        k4 = h * f(Xi+k3, Xj+l3)\n",
    "        l4 = h * g(Xi+k3, Xj+l3)\n",
    "        \n",
    "        k = 1/6 * (k1 + 2*k2 + 2*k3 + k4)\n",
    "        l = 1/6 * (l1 + 2*l2 + 2*l3 + l4)\n",
    "        \n",
    "        count+=h\n",
    "        #plot x-values\n",
    "        if Xi[0] > -100 and Xi[0] < 100:\n",
    "            ax0.plot(count, Xi[0], 'yo')\n",
    "        if Xj[0] > -100. and Xj[0] < 100:\n",
    "            ax0.plot(count, Xj[0], 'go')\n",
    "        #plot z-values\n",
    "        if Xi[1] > 0. and Xi[1] < H:\n",
    "            ax1.plot(count, Xi[1], 'yo')\n",
    "        if Xj[1] > 0. and Xj[1] < H:\n",
    "            ax1.plot(count, Xj[1], 'go')\n",
    "        \n",
    "        #update positions\n",
    "        Xi = np.add(k, Xi) #updated in units of microns\n",
    "        Xj = np.add(l, Xj)\n",
    "                \n",
    "    ax0.plot(count, Xi[0], 'yo', label = 'i')\n",
    "    ax0.plot(count, Xj[0], 'go', label = 'j')\n",
    "    ax1.plot(count, Xi[1], 'yo', label = 'i')\n",
    "    ax1.plot(count, Xj[1], 'go', label = 'j')\n",
    "    ax0.legend()\n",
    "    ax1.legend()\n",
    "    plt.show()\n",
    "                \n",
    "iterate(Xi, Xj, 0,0.5,30)"
   ]
  },
  {
   "cell_type": "code",
   "execution_count": 61,
   "id": "311b7105-ce26-4734-909c-c9741e1cce79",
   "metadata": {},
   "outputs": [
    {
     "data": {
      "text/plain": [
       "Text(0, 0.5, '$\\\\mu(t)/\\\\mu_0$')"
      ]
     },
     "execution_count": 61,
     "metadata": {},
     "output_type": "execute_result"
    },
    {
     "data": {
      "image/png": "[encoded data removed]",
      "text/plain": [
       "<Figure size 432x288 with 1 Axes>"
      ]
     },
     "metadata": {
      "needs_background": "light"
     },
     "output_type": "display_data"
    }
   ],
   "source": [
    "#mobility of particle\n",
    "fig, ax = plt.subplots()\n",
    "t = np.linspace(0,3,30)\n",
    "_= ax.plot(t, wall_mobility[::4], c = 'tab:brown', linestyle = 'None', marker='o')\n",
    "ax.set_xlabel(r't (s)')\n",
    "ax.set_ylabel(r'$\\mu(t)/\\mu_0$')"
   ]
  },
  {
   "cell_type": "code",
   "execution_count": null,
   "id": "8908264d",
   "metadata": {},
   "outputs": [],
   "source": []
  }
 ],
 "metadata": {
  "kernelspec": {
   "display_name": "Python 3 (ipykernel)",
   "language": "python",
   "name": "python3"
  },
  "language_info": {
   "codemirror_mode": {
    "name": "ipython",
    "version": 3
   },
   "file_extension": ".py",
   "mimetype": "text/x-python",
   "name": "python",
   "nbconvert_exporter": "python",
   "pygments_lexer": "ipython3",
   "version": "3.10.4"
  }
 },
 "nbformat": 4,
 "nbformat_minor": 5
}
